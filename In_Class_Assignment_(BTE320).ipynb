{
  "nbformat": 4,
  "nbformat_minor": 0,
  "metadata": {
    "colab": {
      "provenance": [],
      "authorship_tag": "ABX9TyOuHWOOsvlosbGJXuY3lP57",
      "include_colab_link": true
    },
    "kernelspec": {
      "name": "python3",
      "display_name": "Python 3"
    },
    "language_info": {
      "name": "python"
    }
  },
  "cells": [
    {
      "cell_type": "markdown",
      "metadata": {
        "id": "view-in-github",
        "colab_type": "text"
      },
      "source": [
        "<a href=\"https://colab.research.google.com/github/alg367um/BTE320/blob/main/In_Class_Assignment_(BTE320).ipynb\" target=\"_parent\"><img src=\"https://colab.research.google.com/assets/colab-badge.svg\" alt=\"Open In Colab\"/></a>"
      ]
    },
    {
      "cell_type": "code",
      "source": [
        "sales = input('Enter Sales ($):')\n",
        "sales= float(sales)\n",
        "\n",
        "cogs_pct = input ('Enter Cost of Goods sold (%):')\n",
        "cogs_pct= float (cogs_pct)\n",
        "\n",
        "cogs = sales * cogs_pct / 100\n",
        "\n",
        "GrossProfit = sales - cogs\n",
        "\n",
        "rate= input('Enter Tax Rate(%):')\n",
        "rate= float(rate)\n",
        "\n",
        "taxes = GrossProfit * rate/100\n",
        "taxes= float(taxes)\n",
        "\n",
        "NetIncome= GrossProfit-taxes\n",
        "netIncome= float(NetIncome)\n",
        "\n",
        "print('\\n')\n",
        "\n",
        "print(f'---------Income Statement -----------')\n",
        "\n",
        "print(f'Total Sales: ${sales}')\n",
        "\n",
        "print(f\"Cost of good sold: ${cogs}\")\n",
        "\n",
        "print(f\"Gross Profit: ${GrossProfit}\")\n",
        "\n",
        "print(f'less taxes: ${taxes}')\n",
        "\n",
        "print(f\"Net Income: ${NetIncome}\")"
      ],
      "metadata": {
        "colab": {
          "base_uri": "https://localhost:8080/"
        },
        "id": "dXpXHGHJiDl0",
        "outputId": "91c49553-b7e4-4905-d52d-570e0b9a3ff4"
      },
      "execution_count": null,
      "outputs": [
        {
          "output_type": "stream",
          "name": "stdout",
          "text": [
            "Enter Sales ($):12000\n",
            "Enter Cost of Goods sold (%):40\n",
            "Enter Tax Rate(%):30\n",
            "\n",
            "\n",
            "---------Income Statement -----------\n",
            "Total Sales: $12000.0\n",
            "Cost of good sold: $4800.0\n",
            "Gross Profit: $7200.0\n",
            "less taxes: $2160.0\n",
            "Net Income: $5040.0\n"
          ]
        }
      ]
    },
    {
      "cell_type": "code",
      "source": [
        "demand= int(input(\"enter annual demand (units/yr): \"))\n",
        "\n",
        "reorder_cost= input(\"enter reorder cost ($/order): $\")\n",
        "reorder_cost= float(reorder_cost)\n",
        "\n",
        "holding_cost= input(\"Enter holding cost($/unit/yr): $\")\n",
        "holding_cost= float(holding_cost)\n",
        "\n",
        "EOQ= (2*demand*reorder_cost/holding_cost) **.5\n",
        "EOQ= int(EOQ)\n",
        "\n",
        "print('\\n')\n",
        "\n",
        "print(\"Inventory Management----------\")\n",
        "\n",
        "print('\\n')\n",
        "\n",
        "print(f\"Annual Demand : {demand} units\")\n",
        "\n",
        "print(f\"reorder cost per order : ${reorder_cost}\")\n",
        "\n",
        "print(f\"holding cost per unit per yr ${holding_cost}\")\n",
        "\n",
        "print(f\"Economic Order Quantity : {EOQ} units\")\n",
        "\n",
        "\n",
        "\n",
        "\n",
        "\n"
      ],
      "metadata": {
        "id": "Ebo6wc9yhjOM",
        "colab": {
          "base_uri": "https://localhost:8080/"
        },
        "collapsed": true,
        "outputId": "71900d15-e0b9-4d51-9756-05a3906aa57f"
      },
      "execution_count": null,
      "outputs": [
        {
          "output_type": "stream",
          "name": "stdout",
          "text": [
            "enter annual demand (units/yr): 100\n",
            "enter reorder cost ($/order): $1.5\n",
            "Enter holding cost($/unit/yr): $3\n",
            "\n",
            "\n",
            "Inventory Management----------\n",
            "\n",
            "\n",
            "Annual Demand : 100 units\n",
            "reorder cost per order : $1.5\n",
            "holding cost per unit per yr $3.0\n",
            "Economic Order Quantity : 10 units\n"
          ]
        }
      ]
    },
    {
      "cell_type": "code",
      "source": [
        "n1= int(input(\"enter a number:\"))\n",
        "n2= int(input(\"enter a number:\"))\n",
        "o= str(input(\"enter an operator (+,-,//,%,**, *, /): \"))\n",
        "\n",
        "res=None\n",
        "\n",
        "if o==\"+\":\n",
        "  res= n1 + n2\n",
        "elif o==\"-\":\n",
        "  res= n1 - n2\n",
        "elif o==\"*\":\n",
        "  res= n1 * n2\n",
        "elif o==\"/\":\n",
        "  res= n1 / n2\n",
        "elif o==\"//\":\n",
        "  res= n1 // n2\n",
        "elif o== \"**\":\n",
        "  res= n1 ** n2\n",
        "elif o== \"%\":\n",
        "  res= n1 % n2\n",
        "else:\n",
        "  res = None\n",
        "  print(\"invalid operator\")\n",
        "\n",
        "print(f\"Result: {res}\")"
      ],
      "metadata": {
        "colab": {
          "base_uri": "https://localhost:8080/"
        },
        "id": "9BE___1fLvsy",
        "outputId": "1ad77e68-c0df-4a6a-b5d7-ee0b86c2e8ea"
      },
      "execution_count": null,
      "outputs": [
        {
          "output_type": "stream",
          "name": "stdout",
          "text": [
            "enter a number:70\n",
            "enter a number:7\n",
            "enter an operator (+,-,//,%,**, *, /)://\n",
            "result: 10\n"
          ]
        }
      ]
    },
    {
      "cell_type": "code",
      "source": [
        "print(f\"Hourly fees\")\n",
        "print(\"---------------\")\n",
        "for hour in range(1,9):\n",
        "  fee= 5+2.5*hour\n",
        "  if fee < 10:\n",
        "    fee = 10.0\n",
        "  elif fee > 20:\n",
        "    fee = 20.0\n",
        "  print (f\"{hour}\\t{fee}\")"
      ],
      "metadata": {
        "colab": {
          "base_uri": "https://localhost:8080/"
        },
        "id": "dxOy91Y-jkeg",
        "outputId": "466547cc-da79-4b23-ab92-b0bdbaa197b8"
      },
      "execution_count": null,
      "outputs": [
        {
          "output_type": "stream",
          "name": "stdout",
          "text": [
            "Hourly fees\n",
            "---------------\n",
            "1\t10.0\n",
            "2\t10.0\n",
            "3\t12.5\n",
            "4\t15.0\n",
            "5\t17.5\n",
            "6\t20.0\n",
            "7\t20.0\n",
            "8\t20.0\n"
          ]
        }
      ]
    },
    {
      "cell_type": "code",
      "source": [
        "ads=int(ads)\n",
        "for ads in range (0, 201, 25):\n",
        "  print (f\"{ads} \\t {((2*(ads**.5))*10)-ads}\")\n",
        "  ads=int(ads)"
      ],
      "metadata": {
        "colab": {
          "base_uri": "https://localhost:8080/"
        },
        "id": "cpaL0g7aNuba",
        "outputId": "f5c3b014-12b6-4eaa-e8e8-2b009e6a2194"
      },
      "execution_count": 19,
      "outputs": [
        {
          "output_type": "stream",
          "name": "stdout",
          "text": [
            "0 \t 0.0\n",
            "25 \t 75.0\n",
            "50 \t 91.42135623730951\n",
            "75 \t 98.20508075688775\n",
            "100 \t 100.0\n",
            "125 \t 98.60679774997897\n",
            "150 \t 94.94897427831779\n",
            "175 \t 89.57513110645903\n",
            "200 \t 82.84271247461902\n"
          ]
        }
      ]
    },
    {
      "cell_type": "code",
      "source": [
        "for ad in range (0,201,25):\n",
        "  rev = 20 * 10 + 10 * 2 * ad ** .5\n",
        "  exp= 200 + ad\n",
        "  profit = rev - exp\n",
        "  print (ad, round(profit))\n"
      ],
      "metadata": {
        "colab": {
          "base_uri": "https://localhost:8080/"
        },
        "id": "P031t-71RnQC",
        "outputId": "38d107d0-8b37-4df7-f5fc-79b3c32d73db"
      },
      "execution_count": 24,
      "outputs": [
        {
          "output_type": "stream",
          "name": "stdout",
          "text": [
            "0 0\n",
            "25 75\n",
            "50 91\n",
            "75 98\n",
            "100 100\n",
            "125 99\n",
            "150 95\n",
            "175 90\n",
            "200 83\n"
          ]
        }
      ]
    }
  ]
}